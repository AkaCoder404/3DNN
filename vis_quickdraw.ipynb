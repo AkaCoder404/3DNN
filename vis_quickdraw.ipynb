{
 "cells": [
  {
   "cell_type": "markdown",
   "metadata": {},
   "source": [
    "# Visualizing Quickdraw Dataset \n",
    "\n",
    "More information about quickdraw can be found at the original dataset here https://github.com/googlecreativelab/quickdraw-dataset/blob/master/README.md."
   ]
  },
  {
   "cell_type": "code",
   "execution_count": 12,
   "metadata": {},
   "outputs": [],
   "source": [
    "import os\n",
    "import numpy as np\n",
    "import pickle as pkl\n",
    "import matplotlib.pyplot as plt"
   ]
  },
  {
   "cell_type": "code",
   "execution_count": 20,
   "metadata": {},
   "outputs": [
    {
     "name": "stdout",
     "output_type": "stream",
     "text": [
      "{'_files': ['test.npy', 'train.npy', 'valid.npy'], 'files': ['test', 'train', 'valid'], 'allow_pickle': True, 'max_header_size': 10000, 'pickle_kwargs': {'encoding': 'latin1', 'fix_imports': True}, 'zip': <zipfile.ZipFile file=<_io.BufferedReader name='data/quickdraw/zips/basketball.npz'> mode='r'>, 'f': <numpy.lib.npyio.BagObj object at 0x14eb05929e20>, 'fid': <_io.BufferedReader name='data/quickdraw/zips/basketball.npz'>}\n",
      "(70000,)\n",
      "(54, 3)\n"
     ]
    },
    {
     "data": {
      "text/plain": [
       "<matplotlib.image.AxesImage at 0x14eb04bbf850>"
      ]
     },
     "execution_count": 20,
     "metadata": {},
     "output_type": "execute_result"
    },
    {
     "data": {
      "image/png": "[encoded data removed]",
      "text/plain": [
       "<Figure size 1200x1200 with 1 Axes>"
      ]
     },
     "metadata": {},
     "output_type": "display_data"
    }
   ],
   "source": [
    "\n",
    "import matplotlib.pyplot as plt\n",
    "\n",
    "datapath = \"data/quickdraw/zips/basketball.npz\"\n",
    "\n",
    "# Load\n",
    "data = np.load(datapath, allow_pickle=True, encoding=\"latin1\")\n",
    "print(data.__dict__)\n",
    "# test_files = pkl.load(data['test.npy'])\n",
    "# train_files = pkl.load(data['train.npy'])\n",
    "# valid_files = pkl.load(data['valid.npy'])\n",
    "\n",
    "test_files = data['test']\n",
    "train_files = data['train']\n",
    "valid_files = data['valid']\n",
    "\n",
    "print(train_files.shape)\n",
    "print(train_files[0].shape)\n",
    "\n",
    "plt.figure(figsize=(12, 12))\n",
    "plt.imshow(train_files[0])"
   ]
  },
  {
   "cell_type": "code",
   "execution_count": null,
   "metadata": {},
   "outputs": [],
   "source": [
    "# TODO Prepare the quickdraw dataset"
   ]
  }
 ],
 "metadata": {
  "kernelspec": {
   "display_name": "Python 3 (ipykernel)",
   "language": "python",
   "name": "python3"
  },
  "language_info": {
   "codemirror_mode": {
    "name": "ipython",
    "version": 3
   },
   "file_extension": ".py",
   "mimetype": "text/x-python",
   "name": "python",
   "nbconvert_exporter": "python",
   "pygments_lexer": "ipython3",
   "version": "3.8.18"
  }
 },
 "nbformat": 4,
 "nbformat_minor": 2
}
